{
 "cells": [
  {
   "cell_type": "code",
   "execution_count": 1,
   "id": "449daa33",
   "metadata": {},
   "outputs": [
    {
     "name": "stdout",
     "output_type": "stream",
     "text": [
      "Starting Spark application\n"
     ]
    },
    {
     "data": {
      "text/html": [
       "<table>\n",
       "<tr><th>ID</th><th>YARN Application ID</th><th>Kind</th><th>State</th><th>Spark UI</th><th>Driver log</th><th>User</th><th>Current session?</th></tr><tr><td>0</td><td>application_1659380747757_0001</td><td>pyspark</td><td>idle</td><td><a target=\"_blank\" href=\"http://ip-172-31-104-40.eu-central-1.compute.internal:20888/proxy/application_1659380747757_0001/\">Link</a></td><td><a target=\"_blank\" href=\"http://ip-172-31-98-81.eu-central-1.compute.internal:8042/node/containerlogs/container_1659380747757_0001_01_000001/livy\">Link</a></td><td>None</td><td>✔</td></tr></table>"
      ],
      "text/plain": [
       "<IPython.core.display.HTML object>"
      ]
     },
     "metadata": {},
     "output_type": "display_data"
    },
    {
     "data": {
      "application/vnd.jupyter.widget-view+json": {
       "model_id": "",
       "version_major": 2,
       "version_minor": 0
      },
      "text/plain": [
       "FloatProgress(value=0.0, bar_style='info', description='Progress:', layout=Layout(height='25px', width='50%'),…"
      ]
     },
     "metadata": {},
     "output_type": "display_data"
    },
    {
     "name": "stdout",
     "output_type": "stream",
     "text": [
      "SparkSession available as 'spark'.\n"
     ]
    },
    {
     "data": {
      "application/vnd.jupyter.widget-view+json": {
       "model_id": "",
       "version_major": 2,
       "version_minor": 0
      },
      "text/plain": [
       "FloatProgress(value=0.0, bar_style='info', description='Progress:', layout=Layout(height='25px', width='50%'),…"
      ]
     },
     "metadata": {},
     "output_type": "display_data"
    }
   ],
   "source": [
    "import sys\n",
    "from awsglue.transforms import *\n",
    "from awsglue.utils import getResolvedOptions\n",
    "from pyspark.context import SparkContext\n",
    "from awsglue.context import GlueContext\n",
    "from awsglue.job import Job"
   ]
  },
  {
   "cell_type": "code",
   "execution_count": 2,
   "id": "aac4eac7",
   "metadata": {},
   "outputs": [
    {
     "data": {
      "application/vnd.jupyter.widget-view+json": {
       "model_id": "",
       "version_major": 2,
       "version_minor": 0
      },
      "text/plain": [
       "FloatProgress(value=0.0, bar_style='info', description='Progress:', layout=Layout(height='25px', width='50%'),…"
      ]
     },
     "metadata": {},
     "output_type": "display_data"
    }
   ],
   "source": [
    "glueContext = GlueContext(SparkContext.getOrCreate())"
   ]
  },
  {
   "cell_type": "code",
   "execution_count": 4,
   "id": "73c0a1f3",
   "metadata": {},
   "outputs": [
    {
     "data": {
      "application/vnd.jupyter.widget-view+json": {
       "model_id": "",
       "version_major": 2,
       "version_minor": 0
      },
      "text/plain": [
       "FloatProgress(value=0.0, bar_style='info', description='Progress:', layout=Layout(height='25px', width='50%'),…"
      ]
     },
     "metadata": {},
     "output_type": "display_data"
    }
   ],
   "source": [
    "salesDF = glueContext.create_dynamic_frame.from_catalog(\n",
    "             database=\"ddatabase\",\n",
    "             table_name=\"sales\")\n",
    "customerDF = glueContext.create_dynamic_frame.from_catalog(\n",
    "             database=\"ddatabase\",\n",
    "             table_name=\"customer\")"
   ]
  },
  {
   "cell_type": "code",
   "execution_count": 5,
   "id": "14806fc7",
   "metadata": {},
   "outputs": [
    {
     "data": {
      "application/vnd.jupyter.widget-view+json": {
       "model_id": "",
       "version_major": 2,
       "version_minor": 0
      },
      "text/plain": [
       "FloatProgress(value=0.0, bar_style='info', description='Progress:', layout=Layout(height='25px', width='50%'),…"
      ]
     },
     "metadata": {},
     "output_type": "display_data"
    },
    {
     "name": "stdout",
     "output_type": "stream",
     "text": [
      "root\n",
      "|-- ordernumber: long\n",
      "|-- quantityordered: long\n",
      "|-- priceeach: double\n",
      "|-- orderlinenumber: long\n",
      "|-- sales: double\n",
      "|-- orderdate: string\n",
      "|-- status: string\n",
      "|-- qtr_id: long\n",
      "|-- month_id: long\n",
      "|-- year_id: long\n",
      "|-- productline: string\n",
      "|-- msrp: long\n",
      "|-- productcode: string\n",
      "|-- dealsize: string\n",
      "|-- customerid: long\n",
      "\n",
      "root\n",
      "|-- customerid: long\n",
      "|-- customername: string\n",
      "|-- email: string\n",
      "|-- city: string\n",
      "|-- country: string\n",
      "|-- territory: string\n",
      "|-- contactfirstname: string\n",
      "|-- contactlastname: string"
     ]
    }
   ],
   "source": [
    "salesDF.printSchema()\n",
    "customerDF.printSchema()"
   ]
  },
  {
   "cell_type": "code",
   "execution_count": 7,
   "id": "853ca485",
   "metadata": {},
   "outputs": [
    {
     "data": {
      "application/vnd.jupyter.widget-view+json": {
       "model_id": "",
       "version_major": 2,
       "version_minor": 0
      },
      "text/plain": [
       "FloatProgress(value=0.0, bar_style='info', description='Progress:', layout=Layout(height='25px', width='50%'),…"
      ]
     },
     "metadata": {},
     "output_type": "display_data"
    },
    {
     "name": "stdout",
     "output_type": "stream",
     "text": [
      "root\n",
      "|-- orderlinenumber: long\n",
      "|-- sales: double\n",
      "|-- territory: string\n",
      "|-- city: string\n",
      "|-- customername: string\n",
      "|-- year_id: long\n",
      "|-- productline: string\n",
      "|-- contactlastname: string\n",
      "|-- country: string\n",
      "|-- .customerid: long\n",
      "|-- qtr_id: long\n",
      "|-- msrp: long\n",
      "|-- quantityordered: long\n",
      "|-- productcode: string\n",
      "|-- status: string\n",
      "|-- email: string\n",
      "|-- contactfirstname: string\n",
      "|-- ordernumber: long\n",
      "|-- orderdate: string\n",
      "|-- customerid: long\n",
      "|-- dealsize: string\n",
      "|-- month_id: long\n",
      "|-- priceeach: double"
     ]
    }
   ],
   "source": [
    "customersalesDF = Join.apply(salesDF, customerDF, 'customerid', 'customerid')\n",
    "customersalesDF.printSchema()"
   ]
  },
  {
   "cell_type": "code",
   "execution_count": 10,
   "id": "c026038c",
   "metadata": {},
   "outputs": [
    {
     "data": {
      "application/vnd.jupyter.widget-view+json": {
       "model_id": "",
       "version_major": 2,
       "version_minor": 0
      },
      "text/plain": [
       "FloatProgress(value=0.0, bar_style='info', description='Progress:', layout=Layout(height='25px', width='50%'),…"
      ]
     },
     "metadata": {},
     "output_type": "display_data"
    },
    {
     "name": "stdout",
     "output_type": "stream",
     "text": [
      "<awsglue.dynamicframe.DynamicFrame object at 0x7f22c2913940>"
     ]
    }
   ],
   "source": [
    "glueContext.write_dynamic_frame.from_options(customersalesDF, connection_type = 's3', connection_options = {\"path\":\"s3://rbha-data-lake/data/customersales\"}, format = \"json\")"
   ]
  },
  {
   "cell_type": "code",
   "execution_count": null,
   "id": "81dc594d",
   "metadata": {},
   "outputs": [],
   "source": []
  }
 ],
 "metadata": {
  "kernelspec": {
   "display_name": "Sparkmagic (PySpark)",
   "language": "python",
   "name": "pysparkkernel"
  },
  "language_info": {
   "codemirror_mode": {
    "name": "python",
    "version": 3
   },
   "file_extension": ".py",
   "mimetype": "text/x-python",
   "name": "pyspark",
   "pygments_lexer": "python3"
  }
 },
 "nbformat": 4,
 "nbformat_minor": 5
}
